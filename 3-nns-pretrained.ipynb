{
 "cells": [
  {
   "cell_type": "markdown",
   "metadata": {},
   "source": [
    "Finally, we will learn how to use pretrained models in keras.\n",
    "\n",
    "The usage of pretrained models is important since it often allow us to get a model with a \"better start\" than training from scratch.\n",
    "\n",
    "The stereotypical pretraining dataset is called ImageNet, which is a dataset of 14M images over 1k classes.\n",
    "\n",
    "![](imgs/imagenet_.jpg)"
   ]
  },
  {
   "cell_type": "markdown",
   "metadata": {},
   "source": [
    "We will use 2 models, ResNet50 and ResNet101.\n",
    "\n",
    "We will train ResNet50 on MNIST and showcase ResNet101 for feature extraction."
   ]
  },
  {
   "cell_type": "code",
   "execution_count": 41,
   "metadata": {},
   "outputs": [],
   "source": [
    "import keras\n",
    "from keras.models import Sequential\n",
    "from keras.layers import Dense, GlobalAveragePooling2D\n",
    "\n",
    "from keras.applications.resnet import ResNet50, ResNet101, preprocess_input\n",
    "\n",
    "import tensorflow as tf\n",
    "import numpy as np\n"
   ]
  },
  {
   "cell_type": "markdown",
   "metadata": {},
   "source": [
    "ResNet50:"
   ]
  },
  {
   "cell_type": "code",
   "execution_count": 42,
   "metadata": {},
   "outputs": [],
   "source": [
    "cnn_pretrained = ResNet50(weights='imagenet', include_top=False, input_shape=(32, 32, 3))"
   ]
  },
  {
   "cell_type": "markdown",
   "metadata": {},
   "source": [
    "MNIST shape is 28 x 28; however, the pretrained model requires exactly 3 channels and a minimum size of 32 x 32. We will need to fix the mnist dataset to abide to these characteristics to use the pretrained model. More on that later.\n",
    "\n",
    "The model:"
   ]
  },
  {
   "cell_type": "code",
   "execution_count": 43,
   "metadata": {},
   "outputs": [],
   "source": [
    "cnn = Sequential()\n",
    "cnn.add(cnn_pretrained)\n",
    "cnn.add(GlobalAveragePooling2D())\n",
    "cnn.add(Dense(10, activation='softmax'))"
   ]
  },
  {
   "cell_type": "markdown",
   "metadata": {},
   "source": [
    "**DIY**: fix the MNIST dataset and train this neural network for 1 or 2 epochs."
   ]
  },
  {
   "cell_type": "markdown",
   "metadata": {},
   "source": [
    "**Feature extraction**\n",
    "\n",
    "The follwing cells showcase how to operate fetaure extraction. With our super small dataset, it will probably not work..."
   ]
  },
  {
   "cell_type": "code",
   "execution_count": null,
   "metadata": {},
   "outputs": [],
   "source": [
    "img_size = (224, 224)\n",
    "\n",
    "cnn_pretrained = ResNet101(weights='imagenet', include_top=False, input_shape=img_size + (3,))"
   ]
  },
  {
   "cell_type": "code",
   "execution_count": null,
   "metadata": {},
   "outputs": [],
   "source": [
    "dataset = keras.utils.image_dataset_from_directory(\n",
    "    \"dataset\",\n",
    "    labels = \"inferred\",\n",
    "    batch_size = 32,\n",
    "    image_size = img_size,\n",
    "    color_mode = \"rgb\",\n",
    "    interpolation = \"bilinear\"\n",
    ")"
   ]
  },
  {
   "cell_type": "code",
   "execution_count": null,
   "metadata": {},
   "outputs": [],
   "source": [
    "def preprocess_batch(batch_images, batch_labels):\n",
    "    batch_images = preprocess_input(batch_images)  # This applies ImageNet normalization\n",
    "    return batch_images, batch_labels\n",
    "\n",
    "dataset = dataset.map(preprocess_batch)"
   ]
  },
  {
   "cell_type": "code",
   "execution_count": null,
   "metadata": {},
   "outputs": [],
   "source": [
    "all_images = []\n",
    "all_labels = []\n",
    "\n",
    "# Iterate through the dataset to collect all images and labels\n",
    "for images, labels in dataset:\n",
    "    all_images.append(images.numpy())\n",
    "    all_labels.append(labels.numpy())\n",
    "\n",
    "all_images = np.concatenate(all_images, axis=0)\n",
    "all_labels = np.concatenate(all_labels, axis=0)"
   ]
  },
  {
   "cell_type": "code",
   "execution_count": null,
   "metadata": {},
   "outputs": [],
   "source": [
    "predictions = cnn_pretrained.predict(dataset)"
   ]
  },
  {
   "cell_type": "code",
   "execution_count": null,
   "metadata": {},
   "outputs": [],
   "source": [
    "predictions.shape"
   ]
  },
  {
   "cell_type": "code",
   "execution_count": null,
   "metadata": {},
   "outputs": [],
   "source": [
    "predictions = predictions.reshape(predictions.shape[0], -1)\n",
    "predictions.shape"
   ]
  },
  {
   "cell_type": "code",
   "execution_count": null,
   "metadata": {},
   "outputs": [],
   "source": [
    "from sklearn.svm import SVC\n",
    "\n",
    "svc = SVC()\n",
    "svc.fit(predictions, all_labels)"
   ]
  },
  {
   "cell_type": "code",
   "execution_count": null,
   "metadata": {},
   "outputs": [],
   "source": [
    "test_image = keras.utils.load_img(\n",
    "    \"extra_dataset/ginger-cat.jpg\", target_size=img_size\n",
    ")\n",
    "test_image = keras.utils.img_to_array(test_image)\n",
    "test_image = np.expand_dims(test_image, axis=0)\n",
    "test_image = preprocess_input(test_image)\n",
    "\n",
    "prediction = cnn_pretrained.predict(test_image)\n",
    "prediction = prediction.reshape(prediction.shape[0], -1)\n",
    "print(\"Predicted class:\", svc.predict(prediction)[0])"
   ]
  },
  {
   "cell_type": "code",
   "execution_count": null,
   "metadata": {},
   "outputs": [],
   "source": [
    "test_image = keras.utils.load_img(\n",
    "    \"extra_dataset/golden-retriever.jpg\", target_size=img_size\n",
    ")\n",
    "test_image = keras.utils.img_to_array(test_image)\n",
    "test_image = np.expand_dims(test_image, axis=0)\n",
    "test_image = preprocess_input(test_image)\n",
    "\n",
    "prediction = cnn_pretrained.predict(test_image)\n",
    "prediction = prediction.reshape(prediction.shape[0], -1)\n",
    "print(\"Predicted class:\", svc.predict(prediction)[0])"
   ]
  }
 ],
 "metadata": {
  "kernelspec": {
   "display_name": "oop",
   "language": "python",
   "name": "python3"
  },
  "language_info": {
   "codemirror_mode": {
    "name": "ipython",
    "version": 3
   },
   "file_extension": ".py",
   "mimetype": "text/x-python",
   "name": "python",
   "nbconvert_exporter": "python",
   "pygments_lexer": "ipython3",
   "version": "3.10.8"
  }
 },
 "nbformat": 4,
 "nbformat_minor": 2
}
